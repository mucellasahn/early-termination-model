{
 "cells": [
  {
   "cell_type": "code",
   "execution_count": 2,
   "id": "b555274e",
   "metadata": {},
   "outputs": [
    {
     "data": {
      "text/html": [
       "<div>\n",
       "<style scoped>\n",
       "    .dataframe tbody tr th:only-of-type {\n",
       "        vertical-align: middle;\n",
       "    }\n",
       "\n",
       "    .dataframe tbody tr th {\n",
       "        vertical-align: top;\n",
       "    }\n",
       "\n",
       "    .dataframe thead th {\n",
       "        text-align: right;\n",
       "    }\n",
       "</style>\n",
       "<table border=\"1\" class=\"dataframe\">\n",
       "  <thead>\n",
       "    <tr style=\"text-align: right;\">\n",
       "      <th></th>\n",
       "      <th>musteri_id</th>\n",
       "      <th>musteri_tipi</th>\n",
       "      <th>para_birimi</th>\n",
       "      <th>vade_gunu</th>\n",
       "      <th>mevduat_tutari</th>\n",
       "      <th>baslangic_faizi</th>\n",
       "      <th>piyasa_faizi</th>\n",
       "      <th>kur</th>\n",
       "      <th>erken_kapatti</th>\n",
       "      <th>sure</th>\n",
       "    </tr>\n",
       "  </thead>\n",
       "  <tbody>\n",
       "    <tr>\n",
       "      <th>0</th>\n",
       "      <td>1</td>\n",
       "      <td>Bireysel</td>\n",
       "      <td>TL</td>\n",
       "      <td>174</td>\n",
       "      <td>60500</td>\n",
       "      <td>23.11</td>\n",
       "      <td>24.56</td>\n",
       "      <td>32.12</td>\n",
       "      <td>0</td>\n",
       "      <td>174</td>\n",
       "    </tr>\n",
       "    <tr>\n",
       "      <th>1</th>\n",
       "      <td>2</td>\n",
       "      <td>Ticari</td>\n",
       "      <td>TL</td>\n",
       "      <td>230</td>\n",
       "      <td>173800</td>\n",
       "      <td>27.04</td>\n",
       "      <td>12.16</td>\n",
       "      <td>23.24</td>\n",
       "      <td>1</td>\n",
       "      <td>226</td>\n",
       "    </tr>\n",
       "    <tr>\n",
       "      <th>2</th>\n",
       "      <td>3</td>\n",
       "      <td>Bireysel</td>\n",
       "      <td>TL</td>\n",
       "      <td>241</td>\n",
       "      <td>47000</td>\n",
       "      <td>27.65</td>\n",
       "      <td>23.71</td>\n",
       "      <td>27.00</td>\n",
       "      <td>0</td>\n",
       "      <td>241</td>\n",
       "    </tr>\n",
       "    <tr>\n",
       "      <th>3</th>\n",
       "      <td>4</td>\n",
       "      <td>Bireysel</td>\n",
       "      <td>USD</td>\n",
       "      <td>249</td>\n",
       "      <td>379100</td>\n",
       "      <td>22.46</td>\n",
       "      <td>11.84</td>\n",
       "      <td>32.25</td>\n",
       "      <td>0</td>\n",
       "      <td>249</td>\n",
       "    </tr>\n",
       "    <tr>\n",
       "      <th>4</th>\n",
       "      <td>5</td>\n",
       "      <td>Bireysel</td>\n",
       "      <td>TL</td>\n",
       "      <td>269</td>\n",
       "      <td>143400</td>\n",
       "      <td>25.25</td>\n",
       "      <td>29.30</td>\n",
       "      <td>21.01</td>\n",
       "      <td>1</td>\n",
       "      <td>177</td>\n",
       "    </tr>\n",
       "  </tbody>\n",
       "</table>\n",
       "</div>"
      ],
      "text/plain": [
       "   musteri_id musteri_tipi para_birimi  vade_gunu  mevduat_tutari  \\\n",
       "0           1     Bireysel          TL        174           60500   \n",
       "1           2       Ticari          TL        230          173800   \n",
       "2           3     Bireysel          TL        241           47000   \n",
       "3           4     Bireysel         USD        249          379100   \n",
       "4           5     Bireysel          TL        269          143400   \n",
       "\n",
       "   baslangic_faizi  piyasa_faizi    kur  erken_kapatti  sure  \n",
       "0            23.11         24.56  32.12              0   174  \n",
       "1            27.04         12.16  23.24              1   226  \n",
       "2            27.65         23.71  27.00              0   241  \n",
       "3            22.46         11.84  32.25              0   249  \n",
       "4            25.25         29.30  21.01              1   177  "
      ]
     },
     "execution_count": 2,
     "metadata": {},
     "output_type": "execute_result"
    }
   ],
   "source": [
    "import pandas as pd\n",
    "import numpy as np\n",
    "import matplotlib.pyplot as plt\n",
    "\n",
    "#1. Excel dosyasını oku\n",
    "df = pd.read_excel(\"mevduatveri.xlsx\")\n",
    "\n",
    "#İlk 5 satırı göster\n",
    "df.head()"
   ]
  },
  {
   "cell_type": "code",
   "execution_count": 18,
   "id": "9a9e1746",
   "metadata": {},
   "outputs": [],
   "source": [
    "from sksurv.datasets import get_x_y\n",
    "from sksurv.linear_model import CoxPHSurvivalAnalysis\n",
    "from sksurv.util import Surv\n",
    "from sklearn.preprocessing import OneHotEncoder\n",
    "from sklearn.compose import ColumnTransformer\n",
    "from sklearn.pipeline import make_pipeline\n",
    "from sksurv.nonparametric import kaplan_meier_estimator"
   ]
  },
  {
   "cell_type": "code",
   "execution_count": null,
   "id": "563618f2",
   "metadata": {},
   "outputs": [],
   "source": [
    "# Kaplan Meier Yöntemi:\n",
    "\n",
    "# AMAÇ: \"Zaman geçtikçe olayın (örneğin vadeli mevduatın erken kapanması),\n",
    "# gerçekleşmeden önce hayatta (aktif) kalma olasılığı nedir?\"\n",
    "\n",
    "#(İlk 30 günde müşterilen %90'ı hala hesabı kapatmamış. 60 gün sonunda bu oran %72'ye düşmüş gibi)\n",
    "\n",
    "# Kaplan-Meier Formülü:\n",
    "\n",
    "# S(t)=∏_(i:t_i≤t)▒(1-d_i/n_i )\n",
    "\n",
    "#Bu, her olay anında (ti) hayatta kalan oranı al ve hepsini çarp. O ana kadar hayatta kalma olasılığını bul.\n",
    "#Kaplan-Meier, her olay anında hayatta kalan oranı hesaplar ve zaman boyunca bunları çaprarak hayatta kalma eğrisini oluşturur.\n",
    "\n",
    "# S(t): t anına kadar hayatta kalma olasılığı\n",
    "# di: o anda olay yaşayan kişi sayısı\n",
    "# ni: o anda hala riskte olan kişi sayısı\n",
    "\n",
    "#Cencored Durumlar:\n",
    "#Örneğin C ve E müşterileri olayı yaşamadan gözlemden çıktılar (vade sonuna kadar kaldılar)\n",
    "#Cencored olanlar eğriyi düşürmez ama risk grubunda sayılır.\n",
    "\n",
    "#SONUÇ:\n",
    "#Eğri basamaklıdır (her olayda düşer).\n",
    "#Hızlı düşerse erken kapama eğilimi fazladır.\n",
    "#Düz kalırsa olay gerçekleşmemiştir.\n",
    "\n",
    "#ÖZET:\n",
    "#Modeli ihtiyacı:\n",
    "#Süre (t): Olay gerçekleşene kadar geçen zaman\n",
    "#Event (1/0): Olay gerçekleşti mi?\n",
    "#S(t): Zamanla hayatta kalma olasılığı"
   ]
  },
  {
   "cell_type": "code",
   "execution_count": 22,
   "id": "be4bc929",
   "metadata": {
    "scrolled": true
   },
   "outputs": [
    {
     "data": {
      "image/png": "[encoded data removed]",
      "text/plain": [
       "<Figure size 800x300 with 1 Axes>"
      ]
     },
     "metadata": {},
     "output_type": "display_data"
    }
   ],
   "source": [
    "#2. Kaplan-Meier Analizi (Genel)\n",
    "# Sağkalım modeli için hedef değişken (event) ve süre (time) tanımlanıyor.\n",
    "#Kaplan_meier_estimator ile tüm müşteri verisi için sağkalım eğrisi üretiliyor.\n",
    "event = df[\"erken_kapatti\"].astype(bool)\n",
    "time = df[\"sure\"]\n",
    "t_all, s_all = kaplan_meier_estimator(event, time)\n",
    "\n",
    "\n",
    "plt.figure(figsize=(8, 3))\n",
    "plt.step(t_all, s_all, where=\"post\")\n",
    "plt.title(\"Kaplan-Meier: Tüm Müşteriler\")\n",
    "plt.xlabel(\"Gün\")\n",
    "plt.ylabel(\"Hayatta Kalma (erken kapatmama)\")\n",
    "plt.grid(True)\n",
    "plt.show()"
   ]
  },
  {
   "cell_type": "code",
   "execution_count": null,
   "id": "872f31b1",
   "metadata": {},
   "outputs": [],
   "source": [
    "#Grafik Yorumu\n",
    "# Y EKSENİ: Hayatta kalma olasılığı = Vadeli mevduatın hala bozulmadan durma oranı\n",
    "# X EKSENİ: Gün = Mevduatın açılışından bu yana geçen süre\n",
    "#1.0: %100 müşteri hala kapatmamış (herkes vadeye sadık, kimse kapatmamış)\n",
    "#0.7: %70 müşteri hala vadeyi bzomadı, %30'u bozdu demektir.\n",
    "#Günler ilerledikçe eğri aşağı doğru iniyor, erken kapanmalar başlıyor\n",
    "#Örneğin; Gün 50'de Y = 0.94 (%6'sı vadeden önce kapatmış)\n",
    "#Gün 150 civarında Y=0.76 (%24'ü erken kapatmış)\n",
    "#Özet Yorum: Müşterilerin büyük kısmı zamanla vadeli mevduatını erken kapatıyor.\n",
    "#300 gün sonunda %55'ten fazlası parayı vadesinden önce çekmiş."
   ]
  },
  {
   "cell_type": "code",
   "execution_count": 5,
   "id": "62275048",
   "metadata": {},
   "outputs": [
    {
     "data": {
      "image/png": "[encoded data removed]",
      "text/plain": [
       "<Figure size 800x500 with 1 Axes>"
      ]
     },
     "metadata": {},
     "output_type": "display_data"
    }
   ],
   "source": [
    "#3. Kaplan-Meier: Müşteri Tipine Göre\n",
    "# Her müşteri tipi için ayrı sağkalım eğrisi çizer.\n",
    "# Erken kapatma eğilimleri segment bazında karşılaştırılabilir.\n",
    "plt.figure(figsize=(8, 5))\n",
    "for tip in df[\"musteri_tipi\"].unique():\n",
    "    mask = df[\"musteri_tipi\"] == tip\n",
    "    t, s = kaplan_meier_estimator(event[mask], time[mask])\n",
    "    plt.step(t, s, where=\"post\", label=tip)\n",
    "plt.title(\"Kaplan-Meier: Müşteri Tipine Göre\")\n",
    "plt.xlabel(\"Gün\")\n",
    "plt.ylabel(\"Hayatta Kalma (erken kapatmama)\")\n",
    "plt.legend()\n",
    "plt.grid(True)\n",
    "plt.show()"
   ]
  },
  {
   "cell_type": "code",
   "execution_count": 7,
   "id": "83a376e4",
   "metadata": {},
   "outputs": [
    {
     "name": "stdout",
     "output_type": "stream",
     "text": [
      "Kaplan-Meier ile ortalama erken kapatmama süresi: 270.0 gün\n"
     ]
    }
   ],
   "source": [
    "#4. Ortalama sağkalım süresi (erken kapatmama)\n",
    "# Kaplan-Mier eğrisinden ortalama vadede kalma süresi hesaplanır.\n",
    "#Bu, müşterilerin erken kapatmama yönünde ortalama ne kadar dayandığını gösterir.\n",
    "#t_all: günler, s_all: O günlerdeki hayatta kalma (kapatmama) olasılığı\n",
    "#Yani, her gün için \"kaç gün kaldı x o günkü hayatta kalma ihtimali\" hesaplanıp toplanıyor.\n",
    "\n",
    "expected_time = sum((t1 - t0) * s for t0, t1, s in zip([0] + list(t_all[:-1]), t_all, s_all))\n",
    "print(f\"Kaplan-Meier ile ortalama erken kapatmama süresi: {expected_time:.1f} gün\")"
   ]
  },
  {
   "cell_type": "code",
   "execution_count": null,
   "id": "f54c7230",
   "metadata": {},
   "outputs": [],
   "source": [
    "# Çıktı Yorumu: Müşteriler vadeli mevduatlarını ortalama 270 gün boyunca bozmazlar.\n",
    "#Yani, hayatta kalma süresi = mevduatın kapatılmadan bankada kaldığı süre.\n",
    "#Bu ortalama, erken kapatan ve hiç kapatmayanları birlikte dikkate alır."
   ]
  },
  {
   "cell_type": "code",
   "execution_count": 8,
   "id": "d75c390b",
   "metadata": {},
   "outputs": [
    {
     "name": "stdout",
     "output_type": "stream",
     "text": [
      "Kaplan-Meier ile erken kapatma oranı: %47.7\n"
     ]
    }
   ],
   "source": [
    "#4.1 Erken Kapatma Oranı\n",
    "# En uzun sürede hayatta kalan (kapatmayan) müşterilerin oranı alınır.\n",
    "# Kalan %'lik kısmın erken kapattığı sonucu çıkarılır.\n",
    "\n",
    "#s_all[-1]: Kaplan-meier eğrisinin sonundaki hayatta kalma oranı (%52.3)\n",
    "#Bundan 1 çıkarınca erken kapatma oranı = %47.7 bulunuyor.\n",
    "\n",
    "\n",
    "final_survival_prob = s_all[-1] #En son sağkalım oranı\n",
    "early_closure_rate = 1 - final_survival_prob\n",
    "print(f\"Kaplan-Meier ile erken kapatma oranı: %{early_closure_rate * 100:.1f}\")"
   ]
  },
  {
   "cell_type": "code",
   "execution_count": null,
   "id": "f7859dd2",
   "metadata": {},
   "outputs": [],
   "source": [
    "# Çıktı Yorumu: Müşterilerin %47.7'si vade dolmadan mevduatını bozmuş."
   ]
  },
  {
   "cell_type": "code",
   "execution_count": 23,
   "id": "9bd2f59a",
   "metadata": {},
   "outputs": [],
   "source": [
    "#5. Cox Model\n",
    "#Event ve süre sütunları\n",
    "y = Surv.from_dataframe(\"erken_kapatti\", \"sure\", df)\n",
    "\n",
    "#Kullanılacak değişkenler (ID Hariç, event/duration hariç)\n",
    "X = df.drop(columns=[\"musteri_id\", \"erken_kapatti\", \"sure\"]) #Analize katılacak bağımsız değişkenler"
   ]
  },
  {
   "cell_type": "code",
   "execution_count": 11,
   "id": "ec6cb901",
   "metadata": {},
   "outputs": [
    {
     "data": {
      "text/html": [
       "<style>#sk-container-id-1 {color: black;}#sk-container-id-1 pre{padding: 0;}#sk-container-id-1 div.sk-toggleable {background-color: white;}#sk-container-id-1 label.sk-toggleable__label {cursor: pointer;display: block;width: 100%;margin-bottom: 0;padding: 0.3em;box-sizing: border-box;text-align: center;}#sk-container-id-1 label.sk-toggleable__label-arrow:before {content: \"▸\";float: left;margin-right: 0.25em;color: #696969;}#sk-container-id-1 label.sk-toggleable__label-arrow:hover:before {color: black;}#sk-container-id-1 div.sk-estimator:hover label.sk-toggleable__label-arrow:before {color: black;}#sk-container-id-1 div.sk-toggleable__content {max-height: 0;max-width: 0;overflow: hidden;text-align: left;background-color: #f0f8ff;}#sk-container-id-1 div.sk-toggleable__content pre {margin: 0.2em;color: black;border-radius: 0.25em;background-color: #f0f8ff;}#sk-container-id-1 input.sk-toggleable__control:checked~div.sk-toggleable__content {max-height: 200px;max-width: 100%;overflow: auto;}#sk-container-id-1 input.sk-toggleable__control:checked~label.sk-toggleable__label-arrow:before {content: \"▾\";}#sk-container-id-1 div.sk-estimator input.sk-toggleable__control:checked~label.sk-toggleable__label {background-color: #d4ebff;}#sk-container-id-1 div.sk-label input.sk-toggleable__control:checked~label.sk-toggleable__label {background-color: #d4ebff;}#sk-container-id-1 input.sk-hidden--visually {border: 0;clip: rect(1px 1px 1px 1px);clip: rect(1px, 1px, 1px, 1px);height: 1px;margin: -1px;overflow: hidden;padding: 0;position: absolute;width: 1px;}#sk-container-id-1 div.sk-estimator {font-family: monospace;background-color: #f0f8ff;border: 1px dotted black;border-radius: 0.25em;box-sizing: border-box;margin-bottom: 0.5em;}#sk-container-id-1 div.sk-estimator:hover {background-color: #d4ebff;}#sk-container-id-1 div.sk-parallel-item::after {content: \"\";width: 100%;border-bottom: 1px solid gray;flex-grow: 1;}#sk-container-id-1 div.sk-label:hover label.sk-toggleable__label {background-color: #d4ebff;}#sk-container-id-1 div.sk-serial::before {content: \"\";position: absolute;border-left: 1px solid gray;box-sizing: border-box;top: 0;bottom: 0;left: 50%;z-index: 0;}#sk-container-id-1 div.sk-serial {display: flex;flex-direction: column;align-items: center;background-color: white;padding-right: 0.2em;padding-left: 0.2em;position: relative;}#sk-container-id-1 div.sk-item {position: relative;z-index: 1;}#sk-container-id-1 div.sk-parallel {display: flex;align-items: stretch;justify-content: center;background-color: white;position: relative;}#sk-container-id-1 div.sk-item::before, #sk-container-id-1 div.sk-parallel-item::before {content: \"\";position: absolute;border-left: 1px solid gray;box-sizing: border-box;top: 0;bottom: 0;left: 50%;z-index: -1;}#sk-container-id-1 div.sk-parallel-item {display: flex;flex-direction: column;z-index: 1;position: relative;background-color: white;}#sk-container-id-1 div.sk-parallel-item:first-child::after {align-self: flex-end;width: 50%;}#sk-container-id-1 div.sk-parallel-item:last-child::after {align-self: flex-start;width: 50%;}#sk-container-id-1 div.sk-parallel-item:only-child::after {width: 0;}#sk-container-id-1 div.sk-dashed-wrapped {border: 1px dashed gray;margin: 0 0.4em 0.5em 0.4em;box-sizing: border-box;padding-bottom: 0.4em;background-color: white;}#sk-container-id-1 div.sk-label label {font-family: monospace;font-weight: bold;display: inline-block;line-height: 1.2em;}#sk-container-id-1 div.sk-label-container {text-align: center;}#sk-container-id-1 div.sk-container {/* jupyter's `normalize.less` sets `[hidden] { display: none; }` but bootstrap.min.css set `[hidden] { display: none !important; }` so we also need the `!important` here to be able to override the default hidden behavior on the sphinx rendered scikit-learn.org. See: https://github.com/scikit-learn/scikit-learn/issues/21755 */display: inline-block !important;position: relative;}#sk-container-id-1 div.sk-text-repr-fallback {display: none;}</style><div id=\"sk-container-id-1\" class=\"sk-top-container\"><div class=\"sk-text-repr-fallback\"><pre>Pipeline(steps=[(&#x27;columntransformer&#x27;,\n",
       "                 ColumnTransformer(remainder=&#x27;passthrough&#x27;,\n",
       "                                   transformers=[(&#x27;cat&#x27;,\n",
       "                                                  OneHotEncoder(drop=&#x27;first&#x27;),\n",
       "                                                  [&#x27;musteri_tipi&#x27;,\n",
       "                                                   &#x27;para_birimi&#x27;])])),\n",
       "                (&#x27;coxphsurvivalanalysis&#x27;, CoxPHSurvivalAnalysis())])</pre><b>In a Jupyter environment, please rerun this cell to show the HTML representation or trust the notebook. <br />On GitHub, the HTML representation is unable to render, please try loading this page with nbviewer.org.</b></div><div class=\"sk-container\" hidden><div class=\"sk-item sk-dashed-wrapped\"><div class=\"sk-label-container\"><div class=\"sk-label sk-toggleable\"><input class=\"sk-toggleable__control sk-hidden--visually\" id=\"sk-estimator-id-1\" type=\"checkbox\" ><label for=\"sk-estimator-id-1\" class=\"sk-toggleable__label sk-toggleable__label-arrow\">Pipeline</label><div class=\"sk-toggleable__content\"><pre>Pipeline(steps=[(&#x27;columntransformer&#x27;,\n",
       "                 ColumnTransformer(remainder=&#x27;passthrough&#x27;,\n",
       "                                   transformers=[(&#x27;cat&#x27;,\n",
       "                                                  OneHotEncoder(drop=&#x27;first&#x27;),\n",
       "                                                  [&#x27;musteri_tipi&#x27;,\n",
       "                                                   &#x27;para_birimi&#x27;])])),\n",
       "                (&#x27;coxphsurvivalanalysis&#x27;, CoxPHSurvivalAnalysis())])</pre></div></div></div><div class=\"sk-serial\"><div class=\"sk-item sk-dashed-wrapped\"><div class=\"sk-label-container\"><div class=\"sk-label sk-toggleable\"><input class=\"sk-toggleable__control sk-hidden--visually\" id=\"sk-estimator-id-2\" type=\"checkbox\" ><label for=\"sk-estimator-id-2\" class=\"sk-toggleable__label sk-toggleable__label-arrow\">columntransformer: ColumnTransformer</label><div class=\"sk-toggleable__content\"><pre>ColumnTransformer(remainder=&#x27;passthrough&#x27;,\n",
       "                  transformers=[(&#x27;cat&#x27;, OneHotEncoder(drop=&#x27;first&#x27;),\n",
       "                                 [&#x27;musteri_tipi&#x27;, &#x27;para_birimi&#x27;])])</pre></div></div></div><div class=\"sk-parallel\"><div class=\"sk-parallel-item\"><div class=\"sk-item\"><div class=\"sk-label-container\"><div class=\"sk-label sk-toggleable\"><input class=\"sk-toggleable__control sk-hidden--visually\" id=\"sk-estimator-id-3\" type=\"checkbox\" ><label for=\"sk-estimator-id-3\" class=\"sk-toggleable__label sk-toggleable__label-arrow\">cat</label><div class=\"sk-toggleable__content\"><pre>[&#x27;musteri_tipi&#x27;, &#x27;para_birimi&#x27;]</pre></div></div></div><div class=\"sk-serial\"><div class=\"sk-item\"><div class=\"sk-estimator sk-toggleable\"><input class=\"sk-toggleable__control sk-hidden--visually\" id=\"sk-estimator-id-4\" type=\"checkbox\" ><label for=\"sk-estimator-id-4\" class=\"sk-toggleable__label sk-toggleable__label-arrow\">OneHotEncoder</label><div class=\"sk-toggleable__content\"><pre>OneHotEncoder(drop=&#x27;first&#x27;)</pre></div></div></div></div></div></div><div class=\"sk-parallel-item\"><div class=\"sk-item\"><div class=\"sk-label-container\"><div class=\"sk-label sk-toggleable\"><input class=\"sk-toggleable__control sk-hidden--visually\" id=\"sk-estimator-id-5\" type=\"checkbox\" ><label for=\"sk-estimator-id-5\" class=\"sk-toggleable__label sk-toggleable__label-arrow\">remainder</label><div class=\"sk-toggleable__content\"><pre>[&#x27;vade_gunu&#x27;, &#x27;mevduat_tutari&#x27;, &#x27;baslangic_faizi&#x27;, &#x27;piyasa_faizi&#x27;, &#x27;kur&#x27;]</pre></div></div></div><div class=\"sk-serial\"><div class=\"sk-item\"><div class=\"sk-estimator sk-toggleable\"><input class=\"sk-toggleable__control sk-hidden--visually\" id=\"sk-estimator-id-6\" type=\"checkbox\" ><label for=\"sk-estimator-id-6\" class=\"sk-toggleable__label sk-toggleable__label-arrow\">passthrough</label><div class=\"sk-toggleable__content\"><pre>passthrough</pre></div></div></div></div></div></div></div></div><div class=\"sk-item\"><div class=\"sk-estimator sk-toggleable\"><input class=\"sk-toggleable__control sk-hidden--visually\" id=\"sk-estimator-id-7\" type=\"checkbox\" ><label for=\"sk-estimator-id-7\" class=\"sk-toggleable__label sk-toggleable__label-arrow\">CoxPHSurvivalAnalysis</label><div class=\"sk-toggleable__content\"><pre>CoxPHSurvivalAnalysis()</pre></div></div></div></div></div></div></div>"
      ],
      "text/plain": [
       "Pipeline(steps=[('columntransformer',\n",
       "                 ColumnTransformer(remainder='passthrough',\n",
       "                                   transformers=[('cat',\n",
       "                                                  OneHotEncoder(drop='first'),\n",
       "                                                  ['musteri_tipi',\n",
       "                                                   'para_birimi'])])),\n",
       "                ('coxphsurvivalanalysis', CoxPHSurvivalAnalysis())])"
      ]
     },
     "execution_count": 11,
     "metadata": {},
     "output_type": "execute_result"
    }
   ],
   "source": [
    "#Kategorik değişkenler one-hot encoding ile sayısala çevrilir.\n",
    "#Pipeline içinde Cox modeli tanımlanır ve eğitilir.\n",
    "\n",
    "#Kategorik Sütunlar\n",
    "categorical_cols = [\"musteri_tipi\", \"para_birimi\"]\n",
    "numeric_cols = [col for col in X.columns if col not in categorical_cols]\n",
    "\n",
    "#One-hot encoder\n",
    "preprocessor = ColumnTransformer([\n",
    "    (\"cat\", OneHotEncoder(drop=\"first\"), categorical_cols)\n",
    "], remainder=\"passthrough\")\n",
    "\n",
    "#Cox Modeli pipeline ile\n",
    "pipeline = make_pipeline(\n",
    "    preprocessor,\n",
    "    CoxPHSurvivalAnalysis()\n",
    ")\n",
    "\n",
    "#Modeli eğit\n",
    "pipeline.fit(X, y)"
   ]
  },
  {
   "cell_type": "code",
   "execution_count": 12,
   "id": "22559f75",
   "metadata": {},
   "outputs": [],
   "source": [
    "#Cox Model Çıktısı\n",
    "#Pipeline içinden model bileşenini çekelim\n",
    "cox_model = pipeline.named_steps[\"coxphsurvivalanalysis\"]\n",
    "ohe = pipeline.named_steps['columntransformer'].transformers_[0][1]\n",
    "cat_features = ohe.get_feature_names_out(categorical_cols)\n",
    "all_features = list(cat_features) + numeric_cols"
   ]
  },
  {
   "cell_type": "code",
   "execution_count": 15,
   "id": "82f4e875",
   "metadata": {},
   "outputs": [
    {
     "name": "stdout",
     "output_type": "stream",
     "text": [
      "\n",
      "--- Cox Modeli Katsayıları ---\n",
      "para_birimi_USD        1.554836e-01\n",
      "musteri_tipi_Ticari    8.908207e-02\n",
      "baslangic_faizi        2.599725e-03\n",
      "mevduat_tutari         7.523649e-07\n",
      "vade_gunu             -6.498632e-03\n",
      "kur                   -8.358633e-03\n",
      "piyasa_faizi          -1.638535e-02\n",
      "dtype: float64\n"
     ]
    }
   ],
   "source": [
    "#Katsayıları göster\n",
    "coef_df = pd.Series(cox_model.coef_, index=all_features).sort_values(ascending=False)\n",
    "print(\"\\n--- Cox Modeli Katsayıları ---\")\n",
    "print(coef_df)"
   ]
  },
  {
   "cell_type": "code",
   "execution_count": null,
   "id": "f53fed5a",
   "metadata": {},
   "outputs": [],
   "source": [
    "# Cox Model Katsayı Yorumlama:\n",
    "# Cox model formu:\n",
    "# h(t|x) = h0(t).exp(B1x1 + B2x2 + ...)\n",
    "\n",
    "# Bu durumda:\n",
    "# B: tahmin edilen katsayı\n",
    "# exp(B): hazard ratio (yani \"rölatif risk\")\n",
    "# \"Yani: Değişken 1 birim artarsa, risk (erken kapatma olasılığı) exp(B) katına çıkar.\"\n",
    "\n",
    "\n",
    "\n",
    "# Katsayı > 0 : O değişkenin değeri arttıkça erken kapatma riski artar.\n",
    "# Katsayı < 0 : O değişkenin değeri arttıkça erken kapatma riski azalır (Yani vadesine daha çok sadık)\n",
    "\n",
    "#Vadeli mevduat USD cinsindeyse, erken kapatma riski yüksek. Kur etkisi, belirsizlik veya fırsat maliyeti daha yüksek olabilir.\n",
    "#Müşleriler USD hesabı daha kolay bozuyor. Bağımsız değişken 1 birim değiştiğinde, \n",
    "#bağımlı değişken (erken kapatma riski (hazard rate)) üzerinde exp(1.5548)=1.17 daha fazla.\n",
    "# USD hesaplarda erken kapatma riski %17 daha fazla diğer döviz cinslerine göre.\n",
    "# Burada para_birimi değişkeni dummy değişken haline getirildiği için karşılaştırma şeklinde bakılır."
   ]
  }
 ],
 "metadata": {
  "kernelspec": {
   "display_name": "Python 3 (ipykernel)",
   "language": "python",
   "name": "python3"
  },
  "language_info": {
   "codemirror_mode": {
    "name": "ipython",
    "version": 3
   },
   "file_extension": ".py",
   "mimetype": "text/x-python",
   "name": "python",
   "nbconvert_exporter": "python",
   "pygments_lexer": "ipython3",
   "version": "3.11.5"
  }
 },
 "nbformat": 4,
 "nbformat_minor": 5
}
